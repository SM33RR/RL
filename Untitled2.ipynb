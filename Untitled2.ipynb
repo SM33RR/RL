{
  "nbformat": 4,
  "nbformat_minor": 0,
  "metadata": {
    "colab": {
      "provenance": [],
      "authorship_tag": "ABX9TyPmXddr3hmvS88NxfPtZYR5",
      "include_colab_link": true
    },
    "kernelspec": {
      "name": "python3",
      "display_name": "Python 3"
    },
    "language_info": {
      "name": "python"
    }
  },
  "cells": [
    {
      "cell_type": "markdown",
      "metadata": {
        "id": "view-in-github",
        "colab_type": "text"
      },
      "source": [
        "<a href=\"https://colab.research.google.com/github/SM33RR/RL/blob/main/Untitled2.ipynb\" target=\"_parent\"><img src=\"https://colab.research.google.com/assets/colab-badge.svg\" alt=\"Open In Colab\"/></a>"
      ]
    },
    {
      "cell_type": "code",
      "execution_count": 1,
      "metadata": {
        "id": "nGMSablBJtBa"
      },
      "outputs": [],
      "source": [
        "import matplotlib as pd\n",
        "import numpy as np\n"
      ]
    },
    {
      "cell_type": "code",
      "source": [
        "a=[1,2,5,10,27]\n",
        "b=[48,23,89,90,12]"
      ],
      "metadata": {
        "id": "8CnYi36QLKmz"
      },
      "execution_count": 1,
      "outputs": []
    }
  ]
}